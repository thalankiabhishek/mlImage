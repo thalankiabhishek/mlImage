{
  "nbformat": 4,
  "nbformat_minor": 0,
  "metadata": {
    "colab": {
      "name": "CNN - Was that a horse or a person.ipynb",
      "provenance": [],
      "collapsed_sections": [],
      "authorship_tag": "ABX9TyNiGF3kU6pIIAoryQEJiwmn",
      "include_colab_link": true
    },
    "kernelspec": {
      "name": "python3",
      "display_name": "Python 3"
    },
    "accelerator": "GPU",
    "widgets": {
      "application/vnd.jupyter.widget-state+json": {
        "011ef3be49904fdeba0f3de5b4cbef27": {
          "model_module": "@jupyter-widgets/controls",
          "model_name": "HBoxModel",
          "state": {
            "_view_name": "HBoxView",
            "_dom_classes": [],
            "_model_name": "HBoxModel",
            "_view_module": "@jupyter-widgets/controls",
            "_model_module_version": "1.5.0",
            "_view_count": null,
            "_view_module_version": "1.5.0",
            "box_style": "",
            "layout": "IPY_MODEL_d11ae4a9894940088f45ba6e6810b894",
            "_model_module": "@jupyter-widgets/controls",
            "children": [
              "IPY_MODEL_17a48f455f904da9ba6f8895f88f8637",
              "IPY_MODEL_d4a868b0ac4d4ae9849fc1a32f25afce"
            ]
          }
        },
        "d11ae4a9894940088f45ba6e6810b894": {
          "model_module": "@jupyter-widgets/base",
          "model_name": "LayoutModel",
          "state": {
            "_view_name": "LayoutView",
            "grid_template_rows": null,
            "right": null,
            "justify_content": null,
            "_view_module": "@jupyter-widgets/base",
            "overflow": null,
            "_model_module_version": "1.2.0",
            "_view_count": null,
            "flex_flow": null,
            "width": null,
            "min_width": null,
            "border": null,
            "align_items": null,
            "bottom": null,
            "_model_module": "@jupyter-widgets/base",
            "top": null,
            "grid_column": null,
            "overflow_y": null,
            "overflow_x": null,
            "grid_auto_flow": null,
            "grid_area": null,
            "grid_template_columns": null,
            "flex": null,
            "_model_name": "LayoutModel",
            "justify_items": null,
            "grid_row": null,
            "max_height": null,
            "align_content": null,
            "visibility": null,
            "align_self": null,
            "height": null,
            "min_height": null,
            "padding": null,
            "grid_auto_rows": null,
            "grid_gap": null,
            "max_width": null,
            "order": null,
            "_view_module_version": "1.2.0",
            "grid_template_areas": null,
            "object_position": null,
            "object_fit": null,
            "grid_auto_columns": null,
            "margin": null,
            "display": null,
            "left": null
          }
        },
        "17a48f455f904da9ba6f8895f88f8637": {
          "model_module": "@jupyter-widgets/controls",
          "model_name": "FloatProgressModel",
          "state": {
            "_view_name": "ProgressView",
            "style": "IPY_MODEL_d83f2aac125044bb9a40fc7efded513e",
            "_dom_classes": [],
            "description": "100%",
            "_model_name": "FloatProgressModel",
            "bar_style": "success",
            "max": 128,
            "_view_module": "@jupyter-widgets/controls",
            "_model_module_version": "1.5.0",
            "value": 128,
            "_view_count": null,
            "_view_module_version": "1.5.0",
            "orientation": "horizontal",
            "min": 0,
            "description_tooltip": null,
            "_model_module": "@jupyter-widgets/controls",
            "layout": "IPY_MODEL_ae52cb9df3654b13a3ba27027fe8af23"
          }
        },
        "d4a868b0ac4d4ae9849fc1a32f25afce": {
          "model_module": "@jupyter-widgets/controls",
          "model_name": "HTMLModel",
          "state": {
            "_view_name": "HTMLView",
            "style": "IPY_MODEL_45e4cb45b7dc486987cf60675a06e185",
            "_dom_classes": [],
            "description": "",
            "_model_name": "HTMLModel",
            "placeholder": "​",
            "_view_module": "@jupyter-widgets/controls",
            "_model_module_version": "1.5.0",
            "value": " 128/128 [00:23&lt;00:00,  5.48it/s]",
            "_view_count": null,
            "_view_module_version": "1.5.0",
            "description_tooltip": null,
            "_model_module": "@jupyter-widgets/controls",
            "layout": "IPY_MODEL_80b32d87b34c488a915b75fc028222ce"
          }
        },
        "d83f2aac125044bb9a40fc7efded513e": {
          "model_module": "@jupyter-widgets/controls",
          "model_name": "ProgressStyleModel",
          "state": {
            "_view_name": "StyleView",
            "_model_name": "ProgressStyleModel",
            "description_width": "initial",
            "_view_module": "@jupyter-widgets/base",
            "_model_module_version": "1.5.0",
            "_view_count": null,
            "_view_module_version": "1.2.0",
            "bar_color": null,
            "_model_module": "@jupyter-widgets/controls"
          }
        },
        "ae52cb9df3654b13a3ba27027fe8af23": {
          "model_module": "@jupyter-widgets/base",
          "model_name": "LayoutModel",
          "state": {
            "_view_name": "LayoutView",
            "grid_template_rows": null,
            "right": null,
            "justify_content": null,
            "_view_module": "@jupyter-widgets/base",
            "overflow": null,
            "_model_module_version": "1.2.0",
            "_view_count": null,
            "flex_flow": null,
            "width": null,
            "min_width": null,
            "border": null,
            "align_items": null,
            "bottom": null,
            "_model_module": "@jupyter-widgets/base",
            "top": null,
            "grid_column": null,
            "overflow_y": null,
            "overflow_x": null,
            "grid_auto_flow": null,
            "grid_area": null,
            "grid_template_columns": null,
            "flex": null,
            "_model_name": "LayoutModel",
            "justify_items": null,
            "grid_row": null,
            "max_height": null,
            "align_content": null,
            "visibility": null,
            "align_self": null,
            "height": null,
            "min_height": null,
            "padding": null,
            "grid_auto_rows": null,
            "grid_gap": null,
            "max_width": null,
            "order": null,
            "_view_module_version": "1.2.0",
            "grid_template_areas": null,
            "object_position": null,
            "object_fit": null,
            "grid_auto_columns": null,
            "margin": null,
            "display": null,
            "left": null
          }
        },
        "45e4cb45b7dc486987cf60675a06e185": {
          "model_module": "@jupyter-widgets/controls",
          "model_name": "DescriptionStyleModel",
          "state": {
            "_view_name": "StyleView",
            "_model_name": "DescriptionStyleModel",
            "description_width": "",
            "_view_module": "@jupyter-widgets/base",
            "_model_module_version": "1.5.0",
            "_view_count": null,
            "_view_module_version": "1.2.0",
            "_model_module": "@jupyter-widgets/controls"
          }
        },
        "80b32d87b34c488a915b75fc028222ce": {
          "model_module": "@jupyter-widgets/base",
          "model_name": "LayoutModel",
          "state": {
            "_view_name": "LayoutView",
            "grid_template_rows": null,
            "right": null,
            "justify_content": null,
            "_view_module": "@jupyter-widgets/base",
            "overflow": null,
            "_model_module_version": "1.2.0",
            "_view_count": null,
            "flex_flow": null,
            "width": null,
            "min_width": null,
            "border": null,
            "align_items": null,
            "bottom": null,
            "_model_module": "@jupyter-widgets/base",
            "top": null,
            "grid_column": null,
            "overflow_y": null,
            "overflow_x": null,
            "grid_auto_flow": null,
            "grid_area": null,
            "grid_template_columns": null,
            "flex": null,
            "_model_name": "LayoutModel",
            "justify_items": null,
            "grid_row": null,
            "max_height": null,
            "align_content": null,
            "visibility": null,
            "align_self": null,
            "height": null,
            "min_height": null,
            "padding": null,
            "grid_auto_rows": null,
            "grid_gap": null,
            "max_width": null,
            "order": null,
            "_view_module_version": "1.2.0",
            "grid_template_areas": null,
            "object_position": null,
            "object_fit": null,
            "grid_auto_columns": null,
            "margin": null,
            "display": null,
            "left": null
          }
        },
        "f3b4224ebe3c40ff895b7374456d628d": {
          "model_module": "@jupyter-widgets/controls",
          "model_name": "HBoxModel",
          "state": {
            "_view_name": "HBoxView",
            "_dom_classes": [],
            "_model_name": "HBoxModel",
            "_view_module": "@jupyter-widgets/controls",
            "_model_module_version": "1.5.0",
            "_view_count": null,
            "_view_module_version": "1.5.0",
            "box_style": "",
            "layout": "IPY_MODEL_0d847cf6a0fc495b96c98e5112a585d3",
            "_model_module": "@jupyter-widgets/controls",
            "children": [
              "IPY_MODEL_e488c54403eb4067af7976047bc5dd40",
              "IPY_MODEL_d6e381b2f63e4d47a78e98b40adf3e10"
            ]
          }
        },
        "0d847cf6a0fc495b96c98e5112a585d3": {
          "model_module": "@jupyter-widgets/base",
          "model_name": "LayoutModel",
          "state": {
            "_view_name": "LayoutView",
            "grid_template_rows": null,
            "right": null,
            "justify_content": null,
            "_view_module": "@jupyter-widgets/base",
            "overflow": null,
            "_model_module_version": "1.2.0",
            "_view_count": null,
            "flex_flow": null,
            "width": null,
            "min_width": null,
            "border": null,
            "align_items": null,
            "bottom": null,
            "_model_module": "@jupyter-widgets/base",
            "top": null,
            "grid_column": null,
            "overflow_y": null,
            "overflow_x": null,
            "grid_auto_flow": null,
            "grid_area": null,
            "grid_template_columns": null,
            "flex": null,
            "_model_name": "LayoutModel",
            "justify_items": null,
            "grid_row": null,
            "max_height": null,
            "align_content": null,
            "visibility": null,
            "align_self": null,
            "height": null,
            "min_height": null,
            "padding": null,
            "grid_auto_rows": null,
            "grid_gap": null,
            "max_width": null,
            "order": null,
            "_view_module_version": "1.2.0",
            "grid_template_areas": null,
            "object_position": null,
            "object_fit": null,
            "grid_auto_columns": null,
            "margin": null,
            "display": null,
            "left": null
          }
        },
        "e488c54403eb4067af7976047bc5dd40": {
          "model_module": "@jupyter-widgets/controls",
          "model_name": "FloatProgressModel",
          "state": {
            "_view_name": "ProgressView",
            "style": "IPY_MODEL_bc1e6ba8a26945afb5230a415ce1c733",
            "_dom_classes": [],
            "description": "100%",
            "_model_name": "FloatProgressModel",
            "bar_style": "success",
            "max": 128,
            "_view_module": "@jupyter-widgets/controls",
            "_model_module_version": "1.5.0",
            "value": 128,
            "_view_count": null,
            "_view_module_version": "1.5.0",
            "orientation": "horizontal",
            "min": 0,
            "description_tooltip": null,
            "_model_module": "@jupyter-widgets/controls",
            "layout": "IPY_MODEL_607ef71e29d04c5d96ea458996da2bf0"
          }
        },
        "d6e381b2f63e4d47a78e98b40adf3e10": {
          "model_module": "@jupyter-widgets/controls",
          "model_name": "HTMLModel",
          "state": {
            "_view_name": "HTMLView",
            "style": "IPY_MODEL_7efa7e65963241c99cb56bb52dce153f",
            "_dom_classes": [],
            "description": "",
            "_model_name": "HTMLModel",
            "placeholder": "​",
            "_view_module": "@jupyter-widgets/controls",
            "_model_module_version": "1.5.0",
            "value": " 128/128 [00:12&lt;00:00, 10.03it/s]",
            "_view_count": null,
            "_view_module_version": "1.5.0",
            "description_tooltip": null,
            "_model_module": "@jupyter-widgets/controls",
            "layout": "IPY_MODEL_209723aa400c49239869b8a920ea2b2e"
          }
        },
        "bc1e6ba8a26945afb5230a415ce1c733": {
          "model_module": "@jupyter-widgets/controls",
          "model_name": "ProgressStyleModel",
          "state": {
            "_view_name": "StyleView",
            "_model_name": "ProgressStyleModel",
            "description_width": "initial",
            "_view_module": "@jupyter-widgets/base",
            "_model_module_version": "1.5.0",
            "_view_count": null,
            "_view_module_version": "1.2.0",
            "bar_color": null,
            "_model_module": "@jupyter-widgets/controls"
          }
        },
        "607ef71e29d04c5d96ea458996da2bf0": {
          "model_module": "@jupyter-widgets/base",
          "model_name": "LayoutModel",
          "state": {
            "_view_name": "LayoutView",
            "grid_template_rows": null,
            "right": null,
            "justify_content": null,
            "_view_module": "@jupyter-widgets/base",
            "overflow": null,
            "_model_module_version": "1.2.0",
            "_view_count": null,
            "flex_flow": null,
            "width": null,
            "min_width": null,
            "border": null,
            "align_items": null,
            "bottom": null,
            "_model_module": "@jupyter-widgets/base",
            "top": null,
            "grid_column": null,
            "overflow_y": null,
            "overflow_x": null,
            "grid_auto_flow": null,
            "grid_area": null,
            "grid_template_columns": null,
            "flex": null,
            "_model_name": "LayoutModel",
            "justify_items": null,
            "grid_row": null,
            "max_height": null,
            "align_content": null,
            "visibility": null,
            "align_self": null,
            "height": null,
            "min_height": null,
            "padding": null,
            "grid_auto_rows": null,
            "grid_gap": null,
            "max_width": null,
            "order": null,
            "_view_module_version": "1.2.0",
            "grid_template_areas": null,
            "object_position": null,
            "object_fit": null,
            "grid_auto_columns": null,
            "margin": null,
            "display": null,
            "left": null
          }
        },
        "7efa7e65963241c99cb56bb52dce153f": {
          "model_module": "@jupyter-widgets/controls",
          "model_name": "DescriptionStyleModel",
          "state": {
            "_view_name": "StyleView",
            "_model_name": "DescriptionStyleModel",
            "description_width": "",
            "_view_module": "@jupyter-widgets/base",
            "_model_module_version": "1.5.0",
            "_view_count": null,
            "_view_module_version": "1.2.0",
            "_model_module": "@jupyter-widgets/controls"
          }
        },
        "209723aa400c49239869b8a920ea2b2e": {
          "model_module": "@jupyter-widgets/base",
          "model_name": "LayoutModel",
          "state": {
            "_view_name": "LayoutView",
            "grid_template_rows": null,
            "right": null,
            "justify_content": null,
            "_view_module": "@jupyter-widgets/base",
            "overflow": null,
            "_model_module_version": "1.2.0",
            "_view_count": null,
            "flex_flow": null,
            "width": null,
            "min_width": null,
            "border": null,
            "align_items": null,
            "bottom": null,
            "_model_module": "@jupyter-widgets/base",
            "top": null,
            "grid_column": null,
            "overflow_y": null,
            "overflow_x": null,
            "grid_auto_flow": null,
            "grid_area": null,
            "grid_template_columns": null,
            "flex": null,
            "_model_name": "LayoutModel",
            "justify_items": null,
            "grid_row": null,
            "max_height": null,
            "align_content": null,
            "visibility": null,
            "align_self": null,
            "height": null,
            "min_height": null,
            "padding": null,
            "grid_auto_rows": null,
            "grid_gap": null,
            "max_width": null,
            "order": null,
            "_view_module_version": "1.2.0",
            "grid_template_areas": null,
            "object_position": null,
            "object_fit": null,
            "grid_auto_columns": null,
            "margin": null,
            "display": null,
            "left": null
          }
        },
        "92cc8bad85304c9796185ecfe0bc1994": {
          "model_module": "@jupyter-widgets/controls",
          "model_name": "HBoxModel",
          "state": {
            "_view_name": "HBoxView",
            "_dom_classes": [],
            "_model_name": "HBoxModel",
            "_view_module": "@jupyter-widgets/controls",
            "_model_module_version": "1.5.0",
            "_view_count": null,
            "_view_module_version": "1.5.0",
            "box_style": "",
            "layout": "IPY_MODEL_50b594d3c5854cd2ac0bae18bcdbe859",
            "_model_module": "@jupyter-widgets/controls",
            "children": [
              "IPY_MODEL_dd5be9faecde4799be2730d35f7c2070",
              "IPY_MODEL_a613e7c680064ae5b62ffdae2cec122f"
            ]
          }
        },
        "50b594d3c5854cd2ac0bae18bcdbe859": {
          "model_module": "@jupyter-widgets/base",
          "model_name": "LayoutModel",
          "state": {
            "_view_name": "LayoutView",
            "grid_template_rows": null,
            "right": null,
            "justify_content": null,
            "_view_module": "@jupyter-widgets/base",
            "overflow": null,
            "_model_module_version": "1.2.0",
            "_view_count": null,
            "flex_flow": null,
            "width": null,
            "min_width": null,
            "border": null,
            "align_items": null,
            "bottom": null,
            "_model_module": "@jupyter-widgets/base",
            "top": null,
            "grid_column": null,
            "overflow_y": null,
            "overflow_x": null,
            "grid_auto_flow": null,
            "grid_area": null,
            "grid_template_columns": null,
            "flex": null,
            "_model_name": "LayoutModel",
            "justify_items": null,
            "grid_row": null,
            "max_height": null,
            "align_content": null,
            "visibility": null,
            "align_self": null,
            "height": null,
            "min_height": null,
            "padding": null,
            "grid_auto_rows": null,
            "grid_gap": null,
            "max_width": null,
            "order": null,
            "_view_module_version": "1.2.0",
            "grid_template_areas": null,
            "object_position": null,
            "object_fit": null,
            "grid_auto_columns": null,
            "margin": null,
            "display": null,
            "left": null
          }
        },
        "dd5be9faecde4799be2730d35f7c2070": {
          "model_module": "@jupyter-widgets/controls",
          "model_name": "FloatProgressModel",
          "state": {
            "_view_name": "ProgressView",
            "style": "IPY_MODEL_1dabc4e3c81a4a2bac802b9e94b3712c",
            "_dom_classes": [],
            "description": "100%",
            "_model_name": "FloatProgressModel",
            "bar_style": "success",
            "max": 527,
            "_view_module": "@jupyter-widgets/controls",
            "_model_module_version": "1.5.0",
            "value": 527,
            "_view_count": null,
            "_view_module_version": "1.5.0",
            "orientation": "horizontal",
            "min": 0,
            "description_tooltip": null,
            "_model_module": "@jupyter-widgets/controls",
            "layout": "IPY_MODEL_0be495a1daf345c69de3a1c39913011f"
          }
        },
        "a613e7c680064ae5b62ffdae2cec122f": {
          "model_module": "@jupyter-widgets/controls",
          "model_name": "HTMLModel",
          "state": {
            "_view_name": "HTMLView",
            "style": "IPY_MODEL_13ab4b6cc94145d5991104526ada6c13",
            "_dom_classes": [],
            "description": "",
            "_model_name": "HTMLModel",
            "placeholder": "​",
            "_view_module": "@jupyter-widgets/controls",
            "_model_module_version": "1.5.0",
            "value": " 527/527 [00:12&lt;00:00, 42.28it/s]",
            "_view_count": null,
            "_view_module_version": "1.5.0",
            "description_tooltip": null,
            "_model_module": "@jupyter-widgets/controls",
            "layout": "IPY_MODEL_6e5be5aa85ad4f6ba913e43207e8df04"
          }
        },
        "1dabc4e3c81a4a2bac802b9e94b3712c": {
          "model_module": "@jupyter-widgets/controls",
          "model_name": "ProgressStyleModel",
          "state": {
            "_view_name": "StyleView",
            "_model_name": "ProgressStyleModel",
            "description_width": "initial",
            "_view_module": "@jupyter-widgets/base",
            "_model_module_version": "1.5.0",
            "_view_count": null,
            "_view_module_version": "1.2.0",
            "bar_color": null,
            "_model_module": "@jupyter-widgets/controls"
          }
        },
        "0be495a1daf345c69de3a1c39913011f": {
          "model_module": "@jupyter-widgets/base",
          "model_name": "LayoutModel",
          "state": {
            "_view_name": "LayoutView",
            "grid_template_rows": null,
            "right": null,
            "justify_content": null,
            "_view_module": "@jupyter-widgets/base",
            "overflow": null,
            "_model_module_version": "1.2.0",
            "_view_count": null,
            "flex_flow": null,
            "width": null,
            "min_width": null,
            "border": null,
            "align_items": null,
            "bottom": null,
            "_model_module": "@jupyter-widgets/base",
            "top": null,
            "grid_column": null,
            "overflow_y": null,
            "overflow_x": null,
            "grid_auto_flow": null,
            "grid_area": null,
            "grid_template_columns": null,
            "flex": null,
            "_model_name": "LayoutModel",
            "justify_items": null,
            "grid_row": null,
            "max_height": null,
            "align_content": null,
            "visibility": null,
            "align_self": null,
            "height": null,
            "min_height": null,
            "padding": null,
            "grid_auto_rows": null,
            "grid_gap": null,
            "max_width": null,
            "order": null,
            "_view_module_version": "1.2.0",
            "grid_template_areas": null,
            "object_position": null,
            "object_fit": null,
            "grid_auto_columns": null,
            "margin": null,
            "display": null,
            "left": null
          }
        },
        "13ab4b6cc94145d5991104526ada6c13": {
          "model_module": "@jupyter-widgets/controls",
          "model_name": "DescriptionStyleModel",
          "state": {
            "_view_name": "StyleView",
            "_model_name": "DescriptionStyleModel",
            "description_width": "",
            "_view_module": "@jupyter-widgets/base",
            "_model_module_version": "1.5.0",
            "_view_count": null,
            "_view_module_version": "1.2.0",
            "_model_module": "@jupyter-widgets/controls"
          }
        },
        "6e5be5aa85ad4f6ba913e43207e8df04": {
          "model_module": "@jupyter-widgets/base",
          "model_name": "LayoutModel",
          "state": {
            "_view_name": "LayoutView",
            "grid_template_rows": null,
            "right": null,
            "justify_content": null,
            "_view_module": "@jupyter-widgets/base",
            "overflow": null,
            "_model_module_version": "1.2.0",
            "_view_count": null,
            "flex_flow": null,
            "width": null,
            "min_width": null,
            "border": null,
            "align_items": null,
            "bottom": null,
            "_model_module": "@jupyter-widgets/base",
            "top": null,
            "grid_column": null,
            "overflow_y": null,
            "overflow_x": null,
            "grid_auto_flow": null,
            "grid_area": null,
            "grid_template_columns": null,
            "flex": null,
            "_model_name": "LayoutModel",
            "justify_items": null,
            "grid_row": null,
            "max_height": null,
            "align_content": null,
            "visibility": null,
            "align_self": null,
            "height": null,
            "min_height": null,
            "padding": null,
            "grid_auto_rows": null,
            "grid_gap": null,
            "max_width": null,
            "order": null,
            "_view_module_version": "1.2.0",
            "grid_template_areas": null,
            "object_position": null,
            "object_fit": null,
            "grid_auto_columns": null,
            "margin": null,
            "display": null,
            "left": null
          }
        },
        "2cb2bda465424d56b0d1e0ad7a32f21a": {
          "model_module": "@jupyter-widgets/controls",
          "model_name": "HBoxModel",
          "state": {
            "_view_name": "HBoxView",
            "_dom_classes": [],
            "_model_name": "HBoxModel",
            "_view_module": "@jupyter-widgets/controls",
            "_model_module_version": "1.5.0",
            "_view_count": null,
            "_view_module_version": "1.5.0",
            "box_style": "",
            "layout": "IPY_MODEL_d6c3563c42c34603bed99a19a101a1a3",
            "_model_module": "@jupyter-widgets/controls",
            "children": [
              "IPY_MODEL_a302fcaf33c2454f9f6ba111c365edfa",
              "IPY_MODEL_62f5aae94c804acea41e30d81a297549"
            ]
          }
        },
        "d6c3563c42c34603bed99a19a101a1a3": {
          "model_module": "@jupyter-widgets/base",
          "model_name": "LayoutModel",
          "state": {
            "_view_name": "LayoutView",
            "grid_template_rows": null,
            "right": null,
            "justify_content": null,
            "_view_module": "@jupyter-widgets/base",
            "overflow": null,
            "_model_module_version": "1.2.0",
            "_view_count": null,
            "flex_flow": null,
            "width": null,
            "min_width": null,
            "border": null,
            "align_items": null,
            "bottom": null,
            "_model_module": "@jupyter-widgets/base",
            "top": null,
            "grid_column": null,
            "overflow_y": null,
            "overflow_x": null,
            "grid_auto_flow": null,
            "grid_area": null,
            "grid_template_columns": null,
            "flex": null,
            "_model_name": "LayoutModel",
            "justify_items": null,
            "grid_row": null,
            "max_height": null,
            "align_content": null,
            "visibility": null,
            "align_self": null,
            "height": null,
            "min_height": null,
            "padding": null,
            "grid_auto_rows": null,
            "grid_gap": null,
            "max_width": null,
            "order": null,
            "_view_module_version": "1.2.0",
            "grid_template_areas": null,
            "object_position": null,
            "object_fit": null,
            "grid_auto_columns": null,
            "margin": null,
            "display": null,
            "left": null
          }
        },
        "a302fcaf33c2454f9f6ba111c365edfa": {
          "model_module": "@jupyter-widgets/controls",
          "model_name": "FloatProgressModel",
          "state": {
            "_view_name": "ProgressView",
            "style": "IPY_MODEL_95ea902ad7704d20b58aaaceebc41d24",
            "_dom_classes": [],
            "description": "100%",
            "_model_name": "FloatProgressModel",
            "bar_style": "success",
            "max": 500,
            "_view_module": "@jupyter-widgets/controls",
            "_model_module_version": "1.5.0",
            "value": 500,
            "_view_count": null,
            "_view_module_version": "1.5.0",
            "orientation": "horizontal",
            "min": 0,
            "description_tooltip": null,
            "_model_module": "@jupyter-widgets/controls",
            "layout": "IPY_MODEL_c4fc61a20ab44f1f9556501a4cdd3cfe"
          }
        },
        "62f5aae94c804acea41e30d81a297549": {
          "model_module": "@jupyter-widgets/controls",
          "model_name": "HTMLModel",
          "state": {
            "_view_name": "HTMLView",
            "style": "IPY_MODEL_f87ae3875a80453aa9f68125298a87c4",
            "_dom_classes": [],
            "description": "",
            "_model_name": "HTMLModel",
            "placeholder": "​",
            "_view_module": "@jupyter-widgets/controls",
            "_model_module_version": "1.5.0",
            "value": " 500/500 [00:10&lt;00:00, 47.62it/s]",
            "_view_count": null,
            "_view_module_version": "1.5.0",
            "description_tooltip": null,
            "_model_module": "@jupyter-widgets/controls",
            "layout": "IPY_MODEL_09671d52757c4cae8cfcee59dd2c41ac"
          }
        },
        "95ea902ad7704d20b58aaaceebc41d24": {
          "model_module": "@jupyter-widgets/controls",
          "model_name": "ProgressStyleModel",
          "state": {
            "_view_name": "StyleView",
            "_model_name": "ProgressStyleModel",
            "description_width": "initial",
            "_view_module": "@jupyter-widgets/base",
            "_model_module_version": "1.5.0",
            "_view_count": null,
            "_view_module_version": "1.2.0",
            "bar_color": null,
            "_model_module": "@jupyter-widgets/controls"
          }
        },
        "c4fc61a20ab44f1f9556501a4cdd3cfe": {
          "model_module": "@jupyter-widgets/base",
          "model_name": "LayoutModel",
          "state": {
            "_view_name": "LayoutView",
            "grid_template_rows": null,
            "right": null,
            "justify_content": null,
            "_view_module": "@jupyter-widgets/base",
            "overflow": null,
            "_model_module_version": "1.2.0",
            "_view_count": null,
            "flex_flow": null,
            "width": null,
            "min_width": null,
            "border": null,
            "align_items": null,
            "bottom": null,
            "_model_module": "@jupyter-widgets/base",
            "top": null,
            "grid_column": null,
            "overflow_y": null,
            "overflow_x": null,
            "grid_auto_flow": null,
            "grid_area": null,
            "grid_template_columns": null,
            "flex": null,
            "_model_name": "LayoutModel",
            "justify_items": null,
            "grid_row": null,
            "max_height": null,
            "align_content": null,
            "visibility": null,
            "align_self": null,
            "height": null,
            "min_height": null,
            "padding": null,
            "grid_auto_rows": null,
            "grid_gap": null,
            "max_width": null,
            "order": null,
            "_view_module_version": "1.2.0",
            "grid_template_areas": null,
            "object_position": null,
            "object_fit": null,
            "grid_auto_columns": null,
            "margin": null,
            "display": null,
            "left": null
          }
        },
        "f87ae3875a80453aa9f68125298a87c4": {
          "model_module": "@jupyter-widgets/controls",
          "model_name": "DescriptionStyleModel",
          "state": {
            "_view_name": "StyleView",
            "_model_name": "DescriptionStyleModel",
            "description_width": "",
            "_view_module": "@jupyter-widgets/base",
            "_model_module_version": "1.5.0",
            "_view_count": null,
            "_view_module_version": "1.2.0",
            "_model_module": "@jupyter-widgets/controls"
          }
        },
        "09671d52757c4cae8cfcee59dd2c41ac": {
          "model_module": "@jupyter-widgets/base",
          "model_name": "LayoutModel",
          "state": {
            "_view_name": "LayoutView",
            "grid_template_rows": null,
            "right": null,
            "justify_content": null,
            "_view_module": "@jupyter-widgets/base",
            "overflow": null,
            "_model_module_version": "1.2.0",
            "_view_count": null,
            "flex_flow": null,
            "width": null,
            "min_width": null,
            "border": null,
            "align_items": null,
            "bottom": null,
            "_model_module": "@jupyter-widgets/base",
            "top": null,
            "grid_column": null,
            "overflow_y": null,
            "overflow_x": null,
            "grid_auto_flow": null,
            "grid_area": null,
            "grid_template_columns": null,
            "flex": null,
            "_model_name": "LayoutModel",
            "justify_items": null,
            "grid_row": null,
            "max_height": null,
            "align_content": null,
            "visibility": null,
            "align_self": null,
            "height": null,
            "min_height": null,
            "padding": null,
            "grid_auto_rows": null,
            "grid_gap": null,
            "max_width": null,
            "order": null,
            "_view_module_version": "1.2.0",
            "grid_template_areas": null,
            "object_position": null,
            "object_fit": null,
            "grid_auto_columns": null,
            "margin": null,
            "display": null,
            "left": null
          }
        }
      }
    }
  },
  "cells": [
    {
      "cell_type": "markdown",
      "metadata": {
        "id": "view-in-github",
        "colab_type": "text"
      },
      "source": [
        "<a href=\"https://colab.research.google.com/github/thalankiabhishek/mlImage/blob/master/CNN_Was_that_a_horse_or_a_person.ipynb\" target=\"_parent\"><img src=\"https://colab.research.google.com/assets/colab-badge.svg\" alt=\"Open In Colab\"/></a>"
      ]
    },
    {
      "cell_type": "markdown",
      "metadata": {
        "id": "KG8k-qEIhO2d",
        "colab_type": "text"
      },
      "source": [
        "Training Set: https://storage.googleapis.com/laurencemoroney-blog.appspot.com/horse-or-human.zip\n",
        "\n",
        "Val Set: https://storage.googleapis.com/laurencemoroney-blog.appspot.com/validation-horse-or-human.zip"
      ]
    },
    {
      "cell_type": "code",
      "metadata": {
        "id": "5_MlIvjdhKvz",
        "colab_type": "code",
        "colab": {}
      },
      "source": [
        "!wget https://storage.googleapis.com/laurencemoroney-blog.appspot.com/horse-or-human.zip -qq\n",
        "!wget https://storage.googleapis.com/laurencemoroney-blog.appspot.com/validation-horse-or-human.zip -qq \n",
        "!mkdir CNN; mkdir CNN/train CNN/test\n",
        "!unzip -qq horse-or-human.zip -d CNN/train\n",
        "!unzip -qq validation-horse-or-human.zip -d CNN/test; rm -rf *.zip"
      ],
      "execution_count": 39,
      "outputs": []
    },
    {
      "cell_type": "code",
      "metadata": {
        "id": "DCidGh4St2B5",
        "colab_type": "code",
        "colab": {}
      },
      "source": [
        "import numpy as np\n",
        "import matplotlib.pyplot as plt\n",
        "import PIL, cv2\n",
        "import os\n",
        "\n",
        "from tqdm.notebook import tqdm\n",
        "\n",
        "from google.colab.patches import cv2_imshow"
      ],
      "execution_count": 40,
      "outputs": []
    },
    {
      "cell_type": "code",
      "metadata": {
        "id": "S69raxiJsM6D",
        "colab_type": "code",
        "colab": {}
      },
      "source": [
        "from keras.wrappers.scikit_learn import KerasClassifier\n",
        "from sklearn.model_selection import cross_val_score\n",
        "from keras.models import Sequential\n",
        "from keras.layers import Dense"
      ],
      "execution_count": 41,
      "outputs": []
    },
    {
      "cell_type": "code",
      "metadata": {
        "id": "fkxa97zeNadA",
        "colab_type": "code",
        "colab": {
          "base_uri": "https://localhost:8080/",
          "height": 210,
          "referenced_widgets": [
            "011ef3be49904fdeba0f3de5b4cbef27",
            "d11ae4a9894940088f45ba6e6810b894",
            "17a48f455f904da9ba6f8895f88f8637",
            "d4a868b0ac4d4ae9849fc1a32f25afce",
            "d83f2aac125044bb9a40fc7efded513e",
            "ae52cb9df3654b13a3ba27027fe8af23",
            "45e4cb45b7dc486987cf60675a06e185",
            "80b32d87b34c488a915b75fc028222ce",
            "f3b4224ebe3c40ff895b7374456d628d",
            "0d847cf6a0fc495b96c98e5112a585d3",
            "e488c54403eb4067af7976047bc5dd40",
            "d6e381b2f63e4d47a78e98b40adf3e10",
            "bc1e6ba8a26945afb5230a415ce1c733",
            "607ef71e29d04c5d96ea458996da2bf0",
            "7efa7e65963241c99cb56bb52dce153f",
            "209723aa400c49239869b8a920ea2b2e",
            "92cc8bad85304c9796185ecfe0bc1994",
            "50b594d3c5854cd2ac0bae18bcdbe859",
            "dd5be9faecde4799be2730d35f7c2070",
            "a613e7c680064ae5b62ffdae2cec122f",
            "1dabc4e3c81a4a2bac802b9e94b3712c",
            "0be495a1daf345c69de3a1c39913011f",
            "13ab4b6cc94145d5991104526ada6c13",
            "6e5be5aa85ad4f6ba913e43207e8df04",
            "2cb2bda465424d56b0d1e0ad7a32f21a",
            "d6c3563c42c34603bed99a19a101a1a3",
            "a302fcaf33c2454f9f6ba111c365edfa",
            "62f5aae94c804acea41e30d81a297549",
            "95ea902ad7704d20b58aaaceebc41d24",
            "c4fc61a20ab44f1f9556501a4cdd3cfe",
            "f87ae3875a80453aa9f68125298a87c4",
            "09671d52757c4cae8cfcee59dd2c41ac"
          ]
        },
        "outputId": "6ab3febf-d320-4806-cfbc-005bef29914e"
      },
      "source": [
        "horses = []\n",
        "humans = []\n",
        "\n",
        "for data in os.listdir('/content/CNN'):\n",
        "  for folder in os.listdir(os.path.join('/content/CNN', data)):\n",
        "    if folder == 'horses':\n",
        "      for img in tqdm(os.listdir(os.path.join('/content/CNN', data, folder))):\n",
        "        image = cv2.imread(os.path.join('/content/CNN', data, folder, img))\n",
        "        image = cv2.cvtColor(image, cv2.COLOR_BGR2GRAY)\n",
        "        horses.append(image)\n",
        "\n",
        "    elif folder == 'humans':\n",
        "      for img in tqdm(os.listdir(os.path.join('/content/CNN', data, folder))):\n",
        "        image = cv2.imread(os.path.join('/content/CNN', data, folder, img))\n",
        "        image = cv2.cvtColor(image, cv2.COLOR_BGR2GRAY)\n",
        "        humans.append(image)\n",
        "\n",
        "    else:\n",
        "      continue"
      ],
      "execution_count": 42,
      "outputs": [
        {
          "output_type": "display_data",
          "data": {
            "application/vnd.jupyter.widget-view+json": {
              "model_id": "011ef3be49904fdeba0f3de5b4cbef27",
              "version_minor": 0,
              "version_major": 2
            },
            "text/plain": [
              "HBox(children=(FloatProgress(value=0.0, max=128.0), HTML(value='')))"
            ]
          },
          "metadata": {
            "tags": []
          }
        },
        {
          "output_type": "stream",
          "text": [
            "\n"
          ],
          "name": "stdout"
        },
        {
          "output_type": "display_data",
          "data": {
            "application/vnd.jupyter.widget-view+json": {
              "model_id": "f3b4224ebe3c40ff895b7374456d628d",
              "version_minor": 0,
              "version_major": 2
            },
            "text/plain": [
              "HBox(children=(FloatProgress(value=0.0, max=128.0), HTML(value='')))"
            ]
          },
          "metadata": {
            "tags": []
          }
        },
        {
          "output_type": "stream",
          "text": [
            "\n"
          ],
          "name": "stdout"
        },
        {
          "output_type": "display_data",
          "data": {
            "application/vnd.jupyter.widget-view+json": {
              "model_id": "92cc8bad85304c9796185ecfe0bc1994",
              "version_minor": 0,
              "version_major": 2
            },
            "text/plain": [
              "HBox(children=(FloatProgress(value=0.0, max=527.0), HTML(value='')))"
            ]
          },
          "metadata": {
            "tags": []
          }
        },
        {
          "output_type": "stream",
          "text": [
            "\n"
          ],
          "name": "stdout"
        },
        {
          "output_type": "display_data",
          "data": {
            "application/vnd.jupyter.widget-view+json": {
              "model_id": "2cb2bda465424d56b0d1e0ad7a32f21a",
              "version_minor": 0,
              "version_major": 2
            },
            "text/plain": [
              "HBox(children=(FloatProgress(value=0.0, max=500.0), HTML(value='')))"
            ]
          },
          "metadata": {
            "tags": []
          }
        },
        {
          "output_type": "stream",
          "text": [
            "\n"
          ],
          "name": "stdout"
        }
      ]
    },
    {
      "cell_type": "code",
      "metadata": {
        "id": "oAkKlaMii-DJ",
        "colab_type": "code",
        "colab": {
          "base_uri": "https://localhost:8080/",
          "height": 32
        },
        "outputId": "ea074661-8e5f-4b93-9abc-d9eeacf61274"
      },
      "source": [
        "x = np.concatenate((horses, humans), 0)\n",
        "print(x.shape[0], \"images have\", x.shape[1], \"x\", x.shape[2], \"pixels.\")\n",
        "\n",
        "# We create our classify data. 1 for human and 0 for horses. \n",
        "y = np.concatenate((np.zeros(len(horses)), np.ones(len(humans))), axis= 0).reshape(-1,1)"
      ],
      "execution_count": 43,
      "outputs": [
        {
          "output_type": "stream",
          "text": [
            "1283 images have 300 x 300 pixels.\n"
          ],
          "name": "stdout"
        }
      ]
    },
    {
      "cell_type": "code",
      "metadata": {
        "id": "V5gmAvMe8v2P",
        "colab_type": "code",
        "colab": {}
      },
      "source": [
        "x_flatten = x.reshape(x.shape[0], x.shape[1], x.shape[2], -1)"
      ],
      "execution_count": 44,
      "outputs": []
    },
    {
      "cell_type": "code",
      "metadata": {
        "id": "It1kP5yYqYwY",
        "colab_type": "code",
        "colab": {}
      },
      "source": [
        "from sklearn.model_selection import train_test_split\n",
        "x_train, x_test, y_train, y_test = train_test_split(x_flatten, y, test_size = 0.3, random_state = 42)"
      ],
      "execution_count": 45,
      "outputs": []
    },
    {
      "cell_type": "code",
      "metadata": {
        "id": "TduWYo5x900i",
        "colab_type": "code",
        "colab": {}
      },
      "source": [
        "# Part 2 - Fitting the CNN to the images\n",
        "from keras.preprocessing.image import ImageDataGenerator\n",
        "\n",
        "train_datagen = ImageDataGenerator(rescale = 1./255,\n",
        "                                   shear_range = 0.2,\n",
        "                                   zoom_range = 0.2,\n",
        "                                   horizontal_flip = True)\n",
        "training_set = train_datagen.flow(x=x_train, y= y_train, batch_size=10, shuffle=True, seed=73)#, save_to_dir='/content/CNN', save_prefix='train_')\n",
        "\n",
        "\n",
        "test_datagen = ImageDataGenerator(rescale = 1./255)\n",
        "test_set = test_datagen.flow(x=x_test, y= y_test, batch_size=10, shuffle=True, seed=73)#, save_to_dir='/content/CNN', save_prefix='test_')\n"
      ],
      "execution_count": 46,
      "outputs": []
    },
    {
      "cell_type": "code",
      "metadata": {
        "id": "gwifU2KAwZGL",
        "colab_type": "code",
        "colab": {}
      },
      "source": [
        "from keras.models import Sequential\n",
        "from keras.layers import Conv2D, MaxPooling2D, Flatten, Dense"
      ],
      "execution_count": 47,
      "outputs": []
    },
    {
      "cell_type": "code",
      "metadata": {
        "id": "frQDyCxXwZX9",
        "colab_type": "code",
        "colab": {
          "base_uri": "https://localhost:8080/",
          "height": 675
        },
        "outputId": "1d1c40f0-4e4b-4af8-880c-aea362ebd3e0"
      },
      "source": [
        "# Initialising the CNN\n",
        "classifier = Sequential()\n",
        "\n",
        "classifier.add(Conv2D(32, (3, 3), input_shape = next(training_set)[0].shape[1:], activation = 'relu'))\n",
        "classifier.add(MaxPooling2D(pool_size = (2, 2)))\n",
        "classifier.add(Conv2D(16, (3, 3), activation = 'relu'))\n",
        "classifier.add(MaxPooling2D(pool_size = (2, 2)))\n",
        "classifier.add(Conv2D(8, (3, 3), activation = 'relu'))\n",
        "classifier.add(MaxPooling2D(pool_size = (2, 2)))\n",
        "classifier.add(Conv2D(4, (3, 3), activation = 'relu'))\n",
        "classifier.add(MaxPooling2D(pool_size = (2, 2)))\n",
        "classifier.add(Flatten())\n",
        "classifier.add(Dense(units = 128, activation = 'relu'))\n",
        "classifier.add(Dense(units = 64, activation = 'relu'))\n",
        "classifier.add(Dense(units = 32, activation = 'relu'))\n",
        "classifier.add(Dense(units = 16, activation = 'relu'))\n",
        "classifier.add(Dense(units = 8, activation = 'relu'))\n",
        "classifier.add(Dense(units = 4, activation = 'relu'))\n",
        "classifier.add(Dense(units = 1, activation = 'sigmoid'))\n",
        "\n",
        "classifier.compile(optimizer = 'adam', loss = 'binary_crossentropy', metrics = ['accuracy'])\n",
        "classifier.summary()"
      ],
      "execution_count": 48,
      "outputs": [
        {
          "output_type": "stream",
          "text": [
            "Model: \"sequential_2\"\n",
            "_________________________________________________________________\n",
            "Layer (type)                 Output Shape              Param #   \n",
            "=================================================================\n",
            "conv2d_5 (Conv2D)            (None, 298, 298, 32)      320       \n",
            "_________________________________________________________________\n",
            "max_pooling2d_5 (MaxPooling2 (None, 149, 149, 32)      0         \n",
            "_________________________________________________________________\n",
            "conv2d_6 (Conv2D)            (None, 147, 147, 16)      4624      \n",
            "_________________________________________________________________\n",
            "max_pooling2d_6 (MaxPooling2 (None, 73, 73, 16)        0         \n",
            "_________________________________________________________________\n",
            "conv2d_7 (Conv2D)            (None, 71, 71, 8)         1160      \n",
            "_________________________________________________________________\n",
            "max_pooling2d_7 (MaxPooling2 (None, 35, 35, 8)         0         \n",
            "_________________________________________________________________\n",
            "conv2d_8 (Conv2D)            (None, 33, 33, 4)         292       \n",
            "_________________________________________________________________\n",
            "max_pooling2d_8 (MaxPooling2 (None, 16, 16, 4)         0         \n",
            "_________________________________________________________________\n",
            "flatten_2 (Flatten)          (None, 1024)              0         \n",
            "_________________________________________________________________\n",
            "dense_9 (Dense)              (None, 128)               131200    \n",
            "_________________________________________________________________\n",
            "dense_10 (Dense)             (None, 64)                8256      \n",
            "_________________________________________________________________\n",
            "dense_11 (Dense)             (None, 32)                2080      \n",
            "_________________________________________________________________\n",
            "dense_12 (Dense)             (None, 16)                528       \n",
            "_________________________________________________________________\n",
            "dense_13 (Dense)             (None, 8)                 136       \n",
            "_________________________________________________________________\n",
            "dense_14 (Dense)             (None, 4)                 36        \n",
            "_________________________________________________________________\n",
            "dense_15 (Dense)             (None, 1)                 5         \n",
            "=================================================================\n",
            "Total params: 148,637\n",
            "Trainable params: 148,637\n",
            "Non-trainable params: 0\n",
            "_________________________________________________________________\n"
          ],
          "name": "stdout"
        }
      ]
    },
    {
      "cell_type": "code",
      "metadata": {
        "id": "zDb2iXqbZouT",
        "colab_type": "code",
        "colab": {}
      },
      "source": [
        "from keras.callbacks import TensorBoard\n",
        "\n",
        "tensorboard = TensorBoard(log_dir='./logs', histogram_freq=1,\n",
        "                          write_graph=False, write_images=True)"
      ],
      "execution_count": 49,
      "outputs": []
    },
    {
      "cell_type": "code",
      "metadata": {
        "id": "JiqavwaJaSZo",
        "colab_type": "code",
        "colab": {}
      },
      "source": [
        "%load_ext tensorboard\n",
        "%tensorboard --logdir logs"
      ],
      "execution_count": null,
      "outputs": []
    },
    {
      "cell_type": "code",
      "metadata": {
        "id": "OCvo0sxuwZVw",
        "colab_type": "code",
        "colab": {
          "base_uri": "https://localhost:8080/",
          "height": 856
        },
        "outputId": "569164a0-c9d0-49d3-ef43-4603a729ce26"
      },
      "source": [
        "classifier.fit_generator(generator = training_set,\n",
        "                         epochs = 25,\n",
        "                         steps_per_epoch = 10,\n",
        "                         validation_data = test_set,\n",
        "                         validation_steps = 5,\n",
        "                         callbacks = [tensorboard])"
      ],
      "execution_count": 50,
      "outputs": [
        {
          "output_type": "stream",
          "text": [
            "Epoch 1/25\n",
            "10/10 [==============================] - 1s 107ms/step - loss: 0.6924 - accuracy: 0.5400 - val_loss: 0.6956 - val_accuracy: 0.4600\n",
            "Epoch 2/25\n",
            "10/10 [==============================] - 1s 82ms/step - loss: 0.6925 - accuracy: 0.5500 - val_loss: 0.6979 - val_accuracy: 0.4200\n",
            "Epoch 3/25\n",
            "10/10 [==============================] - 1s 86ms/step - loss: 0.6945 - accuracy: 0.4900 - val_loss: 0.6928 - val_accuracy: 0.5000\n",
            "Epoch 4/25\n",
            "10/10 [==============================] - 1s 86ms/step - loss: 0.6940 - accuracy: 0.4800 - val_loss: 0.6919 - val_accuracy: 0.4800\n",
            "Epoch 5/25\n",
            "10/10 [==============================] - 1s 85ms/step - loss: 0.6872 - accuracy: 0.5800 - val_loss: 0.6821 - val_accuracy: 0.5000\n",
            "Epoch 6/25\n",
            "10/10 [==============================] - 1s 90ms/step - loss: 0.6699 - accuracy: 0.6000 - val_loss: 0.6022 - val_accuracy: 0.6400\n",
            "Epoch 7/25\n",
            "10/10 [==============================] - 1s 86ms/step - loss: 0.6529 - accuracy: 0.5900 - val_loss: 0.6733 - val_accuracy: 0.4400\n",
            "Epoch 8/25\n",
            "10/10 [==============================] - 1s 85ms/step - loss: 0.6589 - accuracy: 0.5400 - val_loss: 0.6340 - val_accuracy: 0.7200\n",
            "Epoch 9/25\n",
            "10/10 [==============================] - 1s 86ms/step - loss: 0.5319 - accuracy: 0.8100 - val_loss: 0.6421 - val_accuracy: 0.8000\n",
            "Epoch 10/25\n",
            "10/10 [==============================] - 1s 85ms/step - loss: 0.4015 - accuracy: 0.8200 - val_loss: 0.2665 - val_accuracy: 0.9600\n",
            "Epoch 11/25\n",
            "10/10 [==============================] - 1s 87ms/step - loss: 0.3432 - accuracy: 0.8900 - val_loss: 0.3281 - val_accuracy: 0.8800\n",
            "Epoch 12/25\n",
            "10/10 [==============================] - 1s 86ms/step - loss: 0.3470 - accuracy: 0.8400 - val_loss: 0.3741 - val_accuracy: 0.8000\n",
            "Epoch 13/25\n",
            "10/10 [==============================] - 1s 85ms/step - loss: 0.4074 - accuracy: 0.8500 - val_loss: 0.2773 - val_accuracy: 0.9200\n",
            "Epoch 14/25\n",
            "10/10 [==============================] - 1s 85ms/step - loss: 0.3825 - accuracy: 0.8500 - val_loss: 0.2311 - val_accuracy: 0.9000\n",
            "Epoch 15/25\n",
            "10/10 [==============================] - 1s 85ms/step - loss: 0.2798 - accuracy: 0.8776 - val_loss: 0.2130 - val_accuracy: 0.9400\n",
            "Epoch 16/25\n",
            "10/10 [==============================] - 1s 86ms/step - loss: 0.2983 - accuracy: 0.8900 - val_loss: 0.2768 - val_accuracy: 0.9000\n",
            "Epoch 17/25\n",
            "10/10 [==============================] - 1s 90ms/step - loss: 0.3922 - accuracy: 0.8600 - val_loss: 0.3783 - val_accuracy: 0.8800\n",
            "Epoch 18/25\n",
            "10/10 [==============================] - 1s 85ms/step - loss: 0.3235 - accuracy: 0.8700 - val_loss: 0.2399 - val_accuracy: 0.9200\n",
            "Epoch 19/25\n",
            "10/10 [==============================] - 1s 84ms/step - loss: 0.3511 - accuracy: 0.8700 - val_loss: 0.4652 - val_accuracy: 0.8200\n",
            "Epoch 20/25\n",
            "10/10 [==============================] - 1s 83ms/step - loss: 0.2873 - accuracy: 0.9082 - val_loss: 0.2989 - val_accuracy: 0.9000\n",
            "Epoch 21/25\n",
            "10/10 [==============================] - 1s 84ms/step - loss: 0.3148 - accuracy: 0.8900 - val_loss: 0.2536 - val_accuracy: 0.9000\n",
            "Epoch 22/25\n",
            "10/10 [==============================] - 1s 86ms/step - loss: 0.3024 - accuracy: 0.8878 - val_loss: 0.2899 - val_accuracy: 0.9000\n",
            "Epoch 23/25\n",
            "10/10 [==============================] - 1s 87ms/step - loss: 0.3355 - accuracy: 0.8900 - val_loss: 0.1905 - val_accuracy: 0.9800\n",
            "Epoch 24/25\n",
            "10/10 [==============================] - 1s 85ms/step - loss: 0.3186 - accuracy: 0.8700 - val_loss: 0.2524 - val_accuracy: 0.9000\n",
            "Epoch 25/25\n",
            "10/10 [==============================] - 1s 86ms/step - loss: 0.2037 - accuracy: 0.9300 - val_loss: 0.3804 - val_accuracy: 0.8800\n"
          ],
          "name": "stdout"
        },
        {
          "output_type": "execute_result",
          "data": {
            "text/plain": [
              "<tensorflow.python.keras.callbacks.History at 0x7f03a776c4e0>"
            ]
          },
          "metadata": {
            "tags": []
          },
          "execution_count": 50
        }
      ]
    },
    {
      "cell_type": "code",
      "metadata": {
        "id": "WmxQSaYgmMxx",
        "colab_type": "code",
        "colab": {
          "base_uri": "https://localhost:8080/",
          "height": 332
        },
        "outputId": "31d3ff86-99e9-41dd-b781-2b2265d1b129"
      },
      "source": [
        "i = np.random.randint(0, high=len(x))\n",
        "image = x[i]\n",
        "image = image.reshape(1, image.shape[0], image.shape[1], -1)\n",
        "# image = np.expand_dims(image, axis=-1)\n",
        "cv2_imshow(x[i])\n",
        "img_pred = classifier.predict(image)\n",
        "\n",
        "if int(img_pred[0][0]) == 0:\n",
        "  print(\"It's a Horsie!\")\n",
        "else:\n",
        "  print(\"Mouth-Breather\")"
      ],
      "execution_count": 54,
      "outputs": [
        {
          "output_type": "display_data",
          "data": {
            "image/png": "[encoded data removed]",
            "text/plain": [
              "<PIL.Image.Image image mode=L size=300x300 at 0x7F03A43D95C0>"
            ]
          },
          "metadata": {
            "tags": []
          }
        },
        {
          "output_type": "stream",
          "text": [
            "It's a Horsie!\n"
          ],
          "name": "stdout"
        }
      ]
    }
  ]
}